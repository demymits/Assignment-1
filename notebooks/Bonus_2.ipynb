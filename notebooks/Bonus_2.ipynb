{
 "cells": [
  {
   "cell_type": "code",
   "execution_count": 5,
   "metadata": {},
   "outputs": [],
   "source": [
    "# ------------- Setup and Imports -------------\n",
    "import pandas as pd\n",
    "import numpy as np\n",
    "import os\n",
    "import sys\n",
    "\n",
    "sys.path.append(\"../\")\n",
    "\n",
    "from src.functions import *\n",
    "from sklearn.svm import SVR\n",
    "from sklearn.pipeline import Pipeline\n",
    "from sklearn.impute import KNNImputer\n",
    "from sklearn.linear_model import ElasticNet\n",
    "from sklearn.linear_model import BayesianRidge\n",
    "from sklearn.preprocessing import StandardScaler\n",
    "from sklearn.preprocessing import FunctionTransformer\n",
    "from sklearn.linear_model import LogisticRegression\n",
    "from sklearn.naive_bayes import GaussianNB\n",
    "from sklearn.metrics import classification_report, confusion_matrix, accuracy_score\n",
    "\n",
    "\n",
    "# Seed for reproducibility\n",
    "np.random.seed(42)"
   ]
  },
  {
   "cell_type": "code",
   "execution_count": 13,
   "metadata": {},
   "outputs": [],
   "source": [
    "# ------------- Load Datasets -------------\n",
    "dev_df = load_dataset(\"../data/development_final_data.csv\")\n",
    "val_df = load_dataset(\"../data/evaluation_final_data.csv\")\n",
    "\n",
    "\n",
    "dev_df_raw = pd.read_csv('~/Assignment-1/data/assignment1_dev_set.csv')\n",
    "val_df_raw = pd.read_csv('~/Assignment-1/data/assignment1_val_set.csv')\n",
    "\n",
    "# ------------- Split target and features -------------\n",
    "X_dev, y_dev = split_features_target(dev_df, 'BMI')\n",
    "X_val, y_val = split_features_target(val_df, 'BMI')\n",
    "\n",
    "y_dev = dev_df_raw['BMI']\n",
    "y_val = val_df_raw['BMI']\n",
    "\n",
    "\n",
    "# ------------- Directories for Saving Models -------------\n",
    "os.makedirs(\"../models\", exist_ok=True)\n",
    "os.makedirs(\"../final_models\", exist_ok=True)"
   ]
  },
  {
   "cell_type": "code",
   "execution_count": 14,
   "metadata": {},
   "outputs": [],
   "source": [
    "# Define BMI threshold \n",
    "threshold = 25  \n",
    "\n",
    "# Convert to binary target\n",
    "y_dev_class = (y_dev >= threshold).astype(int)\n",
    "y_val_class = (y_val >= threshold).astype(int)\n"
   ]
  },
  {
   "cell_type": "code",
   "execution_count": 15,
   "metadata": {},
   "outputs": [
    {
     "name": "stdout",
     "output_type": "stream",
     "text": [
      "Metrics for LogisticRegression:\n",
      "    train_accuracy  train_precision  train_recall  train_f1  test_accuracy  \\\n",
      "0        0.873211         0.865169      0.898833  0.881679       0.696682   \n",
      "\n",
      "   test_precision  test_recall   test_f1  \n",
      "0        0.711864     0.736842  0.724138  \n",
      "Metrics for GaussianNB:\n",
      "    train_accuracy  train_precision  train_recall  train_f1  test_accuracy  \\\n",
      "0        0.742331         0.722034      0.828794  0.771739        0.64455   \n",
      "\n",
      "   test_precision  test_recall   test_f1  \n",
      "0        0.644444     0.763158  0.698795  \n"
     ]
    }
   ],
   "source": [
    "# Initialize classifiers\n",
    "classifiers = {\n",
    "    \"LogisticRegression\": LogisticRegression(max_iter=1000),\n",
    "    \"GaussianNB\": GaussianNB()\n",
    "}\n",
    "\n",
    "for name, clf in classifiers.items():\n",
    "    model = train_model(X_dev, y_dev_class, clf)\n",
    "    \n",
    "    # Save the model\n",
    "    save_model(model, f\"../models/{name}_classifier.joblib\")\n",
    "    \n",
    "    # Evaluate\n",
    "    metrics = evaluate_classification_model(model, X_dev, y_dev_class, X_val, y_val_class)\n",
    "    print(f\"Metrics for {name}:\\n\", pd.DataFrame([metrics]))"
   ]
  }
 ],
 "metadata": {
  "kernelspec": {
   "display_name": "base",
   "language": "python",
   "name": "python3"
  },
  "language_info": {
   "codemirror_mode": {
    "name": "ipython",
    "version": 3
   },
   "file_extension": ".py",
   "mimetype": "text/x-python",
   "name": "python",
   "nbconvert_exporter": "python",
   "pygments_lexer": "ipython3",
   "version": "3.12.7"
  }
 },
 "nbformat": 4,
 "nbformat_minor": 2
}
